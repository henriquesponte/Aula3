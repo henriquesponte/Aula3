{
 "cells": [
  {
   "cell_type": "code",
   "execution_count": null,
   "metadata": {},
   "outputs": [],
   "source": [
    "from IPython.display import Image\n",
    "from IPython.display import HTML\n",
    "import matplotlib.pyplot as plt\n",
    "import numpy as np\n",
    "import numpy.random as npr\n",
    "import math"
   ]
  },
  {
   "cell_type": "code",
   "execution_count": 9,
   "metadata": {},
   "outputs": [
    {
     "name": "stdout",
     "output_type": "stream",
     "text": [
      "0 01101 0101010101 = 0.333251953125 ≈ 1/3\n",
      "01101 => 13\n",
      "Expoente, 13 - 15\n",
      "Fração, 2**(-2)+2**(-4)+2**(-6)+2**(-8)+2**(-10) = n\n",
      "(1 + n)*2**(-2) = 0.333251953125 \n",
      "\n",
      "0.3330078125\n"
     ]
    }
   ],
   "source": [
    "print('0 01101 0101010101 = 0.333251953125 ≈ 1/3')\n",
    "print('01101 =>', int('01101',2))\n",
    "print('Expoente, 13 - 15')\n",
    "print('Fração, 2**(-2)+2**(-4)+2**(-6)+2**(-8)+2**(-10) = n')\n",
    "n = (2**(-2)+2**(-4)+2**(-6)+2**(-8)+2**(-10))\n",
    "print('(1 + n)*2**(-2) =', (1 + n)*2**(-2), '\\n')\n",
    "print(n)"
   ]
  }
 ],
 "metadata": {
  "kernelspec": {
   "display_name": "Python 3",
   "language": "python",
   "name": "python3"
  },
  "language_info": {
   "codemirror_mode": {
    "name": "ipython",
    "version": 3
   },
   "file_extension": ".py",
   "mimetype": "text/x-python",
   "name": "python",
   "nbconvert_exporter": "python",
   "pygments_lexer": "ipython3",
   "version": "3.6.5"
  }
 },
 "nbformat": 4,
 "nbformat_minor": 2
}
